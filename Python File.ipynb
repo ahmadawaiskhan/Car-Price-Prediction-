{
 "cells": [
  {
   "cell_type": "code",
   "execution_count": 404,
   "id": "5277a379",
   "metadata": {},
   "outputs": [],
   "source": [
    "#10931\n",
    "#10950\n",
    "\n",
    "import pandas as pd\n",
    "import numpy as np\n",
    "import matplotlib as plt\n",
    "import seaborn as sns\n",
    "from sklearn.ensemble import RandomForestRegressor\n",
    "from sklearn.linear_model import LinearRegression\n",
    "from sklearn.tree import DecisionTreeRegressor\n",
    "from sklearn.impute import SimpleImputer\n",
    "from sklearn.preprocessing import OneHotEncoder\n",
    "from sklearn.pipeline import Pipeline\n",
    "from sklearn.compose import ColumnTransformer\n",
    "from sklearn.model_selection import cross_val_score\n",
    "from sklearn.model_selection import train_test_split\n",
    "from sklearn.ensemble import GradientBoostingRegressor\n",
    "from xgboost import XGBRegressor"
   ]
  },
  {
   "cell_type": "code",
   "execution_count": 405,
   "id": "290eb621",
   "metadata": {},
   "outputs": [
    {
     "data": {
      "text/html": [
       "<div>\n",
       "<style scoped>\n",
       "    .dataframe tbody tr th:only-of-type {\n",
       "        vertical-align: middle;\n",
       "    }\n",
       "\n",
       "    .dataframe tbody tr th {\n",
       "        vertical-align: top;\n",
       "    }\n",
       "\n",
       "    .dataframe thead th {\n",
       "        text-align: right;\n",
       "    }\n",
       "</style>\n",
       "<table border=\"1\" class=\"dataframe\">\n",
       "  <thead>\n",
       "    <tr style=\"text-align: right;\">\n",
       "      <th></th>\n",
       "      <th>count</th>\n",
       "      <th>mean</th>\n",
       "      <th>std</th>\n",
       "      <th>min</th>\n",
       "      <th>25%</th>\n",
       "      <th>50%</th>\n",
       "      <th>75%</th>\n",
       "      <th>max</th>\n",
       "    </tr>\n",
       "  </thead>\n",
       "  <tbody>\n",
       "    <tr>\n",
       "      <th>Price</th>\n",
       "      <td>4173.0</td>\n",
       "      <td>19418.746935</td>\n",
       "      <td>25584.242620</td>\n",
       "      <td>600.0</td>\n",
       "      <td>6999.0</td>\n",
       "      <td>11500.0</td>\n",
       "      <td>21700.0</td>\n",
       "      <td>300000.00</td>\n",
       "    </tr>\n",
       "    <tr>\n",
       "      <th>Mileage</th>\n",
       "      <td>4345.0</td>\n",
       "      <td>161.237284</td>\n",
       "      <td>105.705797</td>\n",
       "      <td>0.0</td>\n",
       "      <td>86.0</td>\n",
       "      <td>155.0</td>\n",
       "      <td>230.0</td>\n",
       "      <td>980.00</td>\n",
       "    </tr>\n",
       "    <tr>\n",
       "      <th>EngineV</th>\n",
       "      <td>4195.0</td>\n",
       "      <td>2.790734</td>\n",
       "      <td>5.066437</td>\n",
       "      <td>0.6</td>\n",
       "      <td>1.8</td>\n",
       "      <td>2.2</td>\n",
       "      <td>3.0</td>\n",
       "      <td>99.99</td>\n",
       "    </tr>\n",
       "    <tr>\n",
       "      <th>Year</th>\n",
       "      <td>4345.0</td>\n",
       "      <td>2006.550058</td>\n",
       "      <td>6.719097</td>\n",
       "      <td>1969.0</td>\n",
       "      <td>2003.0</td>\n",
       "      <td>2008.0</td>\n",
       "      <td>2012.0</td>\n",
       "      <td>2016.00</td>\n",
       "    </tr>\n",
       "  </tbody>\n",
       "</table>\n",
       "</div>"
      ],
      "text/plain": [
       "          count          mean           std     min     25%      50%      75%  \\\n",
       "Price    4173.0  19418.746935  25584.242620   600.0  6999.0  11500.0  21700.0   \n",
       "Mileage  4345.0    161.237284    105.705797     0.0    86.0    155.0    230.0   \n",
       "EngineV  4195.0      2.790734      5.066437     0.6     1.8      2.2      3.0   \n",
       "Year     4345.0   2006.550058      6.719097  1969.0  2003.0   2008.0   2012.0   \n",
       "\n",
       "               max  \n",
       "Price    300000.00  \n",
       "Mileage     980.00  \n",
       "EngineV      99.99  \n",
       "Year       2016.00  "
      ]
     },
     "execution_count": 405,
     "metadata": {},
     "output_type": "execute_result"
    }
   ],
   "source": [
    "data=pd.read_csv(\"car_prediction.csv\")\n",
    "data.describe().T"
   ]
  },
  {
   "cell_type": "code",
   "execution_count": 406,
   "id": "d1f84067",
   "metadata": {},
   "outputs": [
    {
     "data": {
      "text/plain": [
       "Brand             0\n",
       "Price           172\n",
       "Body              0\n",
       "Mileage           0\n",
       "EngineV         150\n",
       "Engine Type       0\n",
       "Registration      0\n",
       "Year              0\n",
       "Model             0\n",
       "dtype: int64"
      ]
     },
     "execution_count": 406,
     "metadata": {},
     "output_type": "execute_result"
    }
   ],
   "source": [
    "data.isnull().sum()"
   ]
  },
  {
   "cell_type": "code",
   "execution_count": 408,
   "id": "63c94809",
   "metadata": {},
   "outputs": [],
   "source": [
    "cleaned_data=data.dropna(subset='Price')"
   ]
  },
  {
   "cell_type": "code",
   "execution_count": null,
   "id": "81d436d5",
   "metadata": {},
   "outputs": [],
   "source": [
    "data.select_dtypes(object).nunique()"
   ]
  },
  {
   "cell_type": "code",
   "execution_count": 409,
   "id": "1536721f",
   "metadata": {},
   "outputs": [
    {
     "data": {
      "image/png": "[encoded data removed]",
      "text/plain": [
       "<Figure size 432x288 with 1 Axes>"
      ]
     },
     "metadata": {
      "needs_background": "light"
     },
     "output_type": "display_data"
    }
   ],
   "source": [
    "cleaned_data=cleaned_data[cleaned_data.Price<130000]\n",
    "ax1=sns.histplot(np.log(cleaned_data.Price))\n",
    "\n"
   ]
  },
  {
   "cell_type": "code",
   "execution_count": 410,
   "id": "9447dc86",
   "metadata": {},
   "outputs": [
    {
     "data": {
      "text/plain": [
       "<AxesSubplot:xlabel='EngineV', ylabel='Count'>"
      ]
     },
     "execution_count": 410,
     "metadata": {},
     "output_type": "execute_result"
    },
    {
     "data": {
      "image/png": "[encoded data removed]",
      "text/plain": [
       "<Figure size 432x288 with 1 Axes>"
      ]
     },
     "metadata": {
      "needs_background": "light"
     },
     "output_type": "display_data"
    }
   ],
   "source": [
    "cleaned_data=cleaned_data[cleaned_data.EngineV<8]\n",
    "sns.histplot(cleaned_data.EngineV)"
   ]
  },
  {
   "cell_type": "code",
   "execution_count": 411,
   "id": "2b9b5848",
   "metadata": {},
   "outputs": [
    {
     "data": {
      "text/plain": [
       "<AxesSubplot:xlabel='Mileage', ylabel='Count'>"
      ]
     },
     "execution_count": 411,
     "metadata": {},
     "output_type": "execute_result"
    },
    {
     "data": {
      "image/png": "[encoded data removed]",
      "text/plain": [
       "<Figure size 432x288 with 1 Axes>"
      ]
     },
     "metadata": {
      "needs_background": "light"
     },
     "output_type": "display_data"
    }
   ],
   "source": [
    "sns.histplot(cleaned_data.Mileage)"
   ]
  },
  {
   "cell_type": "code",
   "execution_count": 412,
   "id": "b651a530",
   "metadata": {},
   "outputs": [],
   "source": [
    "x=cleaned_data.drop('Price',axis=1)\n",
    "y=cleaned_data.Price\n"
   ]
  },
  {
   "cell_type": "code",
   "execution_count": 413,
   "id": "8d881e73",
   "metadata": {},
   "outputs": [],
   "source": [
    "x_train,x_test,y_train,y_test=train_test_split(x,y,test_size=0.2)"
   ]
  },
  {
   "cell_type": "code",
   "execution_count": 414,
   "id": "38c3a253",
   "metadata": {},
   "outputs": [],
   "source": [
    "numerical_data=x_train.select_dtypes(np.number).columns\n",
    "catagorical_data=x_train.select_dtypes(object).columns\n"
   ]
  },
  {
   "cell_type": "code",
   "execution_count": 415,
   "id": "ec41ae20",
   "metadata": {},
   "outputs": [],
   "source": [
    "numerical_transformer=SimpleImputer(strategy='mean')\n",
    "catagorical_transformer=Pipeline(steps=[ \n",
    "    ('imputer',SimpleImputer(strategy='most_frequent')),\n",
    "    ('onhot',OneHotEncoder(handle_unknown='ignore',sparse=False))\n",
    "])"
   ]
  },
  {
   "cell_type": "code",
   "execution_count": 416,
   "id": "89a2d6f3",
   "metadata": {},
   "outputs": [],
   "source": [
    "preprocessing=ColumnTransformer(transformers=[\n",
    "    ('num',numerical_transformer,numerical_data),\n",
    "    ('cat',catagorical_transformer,catagorical_data)\n",
    "])"
   ]
  },
  {
   "cell_type": "code",
   "execution_count": 417,
   "id": "dc7dc297",
   "metadata": {},
   "outputs": [],
   "source": [
    "model=RandomForestRegressor(n_estimators=10)"
   ]
  },
  {
   "cell_type": "code",
   "execution_count": 418,
   "id": "06df00f4",
   "metadata": {},
   "outputs": [],
   "source": [
    "model1=XGBRegressor()"
   ]
  },
  {
   "cell_type": "code",
   "execution_count": 419,
   "id": "2bda9bb3",
   "metadata": {},
   "outputs": [],
   "source": [
    "model2=DecisionTreeRegressor()"
   ]
  },
  {
   "cell_type": "code",
   "execution_count": 420,
   "id": "0d0ebe7e",
   "metadata": {},
   "outputs": [],
   "source": [
    "model3=GradientBoostingRegressor()"
   ]
  },
  {
   "cell_type": "code",
   "execution_count": 421,
   "id": "c7097bd2",
   "metadata": {},
   "outputs": [],
   "source": [
    "    my_pipline=Pipeline(steps=[\n",
    "    ('preprocessing',preprocessing),\n",
    "    ('model',model)\n",
    "])\n",
    "     "
   ]
  },
  {
   "cell_type": "code",
   "execution_count": 422,
   "id": "e5e29724",
   "metadata": {},
   "outputs": [
    {
     "data": {
      "text/plain": [
       "Pipeline(steps=[('preprocessing',\n",
       "                 ColumnTransformer(transformers=[('num', SimpleImputer(),\n",
       "                                                  Index(['Mileage', 'EngineV', 'Year'], dtype='object')),\n",
       "                                                 ('cat',\n",
       "                                                  Pipeline(steps=[('imputer',\n",
       "                                                                   SimpleImputer(strategy='most_frequent')),\n",
       "                                                                  ('onhot',\n",
       "                                                                   OneHotEncoder(handle_unknown='ignore',\n",
       "                                                                                 sparse=False))]),\n",
       "                                                  Index(['Brand', 'Body', 'Engine Type', 'Registration', 'Model'], dtype='object'))])),\n",
       "                ('model', RandomForestRegressor(n_estimators=10))])"
      ]
     },
     "execution_count": 422,
     "metadata": {},
     "output_type": "execute_result"
    }
   ],
   "source": [
    "my_pipline.fit(x_train,y_train)"
   ]
  },
  {
   "cell_type": "code",
   "execution_count": 423,
   "id": "39ddb505",
   "metadata": {},
   "outputs": [],
   "source": [
    "pred=my_pipline.predict(x_test)"
   ]
  },
  {
   "cell_type": "code",
   "execution_count": 424,
   "id": "38e21a11",
   "metadata": {},
   "outputs": [
    {
     "data": {
      "text/plain": [
       "2672.2086236019786"
      ]
     },
     "execution_count": 424,
     "metadata": {},
     "output_type": "execute_result"
    }
   ],
   "source": [
    "mean_absolute_error(y_test,pred)"
   ]
  },
  {
   "cell_type": "code",
   "execution_count": 425,
   "id": "8d9d507e",
   "metadata": {},
   "outputs": [],
   "source": [
    "   my_pipline1=Pipeline(steps=[\n",
    "    ('preprocessing',preprocessing),\n",
    "    ('model',model1)\n",
    "])"
   ]
  },
  {
   "cell_type": "code",
   "execution_count": 426,
   "id": "c35962b3",
   "metadata": {},
   "outputs": [
    {
     "data": {
      "text/plain": [
       "Pipeline(steps=[('preprocessing',\n",
       "                 ColumnTransformer(transformers=[('num', SimpleImputer(),\n",
       "                                                  Index(['Mileage', 'EngineV', 'Year'], dtype='object')),\n",
       "                                                 ('cat',\n",
       "                                                  Pipeline(steps=[('imputer',\n",
       "                                                                   SimpleImputer(strategy='most_frequent')),\n",
       "                                                                  ('onhot',\n",
       "                                                                   OneHotEncoder(handle_unknown='ignore',\n",
       "                                                                                 sparse=False))]),\n",
       "                                                  Index(['Brand', 'Body', 'Engine Type', 'Registration', 'Model'], dtype='objec...\n",
       "                              feature_types=None, gamma=0, gpu_id=-1,\n",
       "                              grow_policy='depthwise', importance_type=None,\n",
       "                              interaction_constraints='',\n",
       "                              learning_rate=0.300000012, max_bin=256,\n",
       "                              max_cat_threshold=64, max_cat_to_onehot=4,\n",
       "                              max_delta_step=0, max_depth=6, max_leaves=0,\n",
       "                              min_child_weight=1, missing=nan,\n",
       "                              monotone_constraints='()', n_estimators=100,\n",
       "                              n_jobs=0, num_parallel_tree=1, predictor='auto',\n",
       "                              random_state=0, ...))])"
      ]
     },
     "execution_count": 426,
     "metadata": {},
     "output_type": "execute_result"
    }
   ],
   "source": [
    "my_pipline1.fit(x_train,y_train)"
   ]
  },
  {
   "cell_type": "code",
   "execution_count": 427,
   "id": "f1cb5e72",
   "metadata": {},
   "outputs": [],
   "source": [
    "pred1=my_pipline1.predict(x_test)"
   ]
  },
  {
   "cell_type": "code",
   "execution_count": 428,
   "id": "b7ee5cd5",
   "metadata": {},
   "outputs": [
    {
     "data": {
      "text/plain": [
       "2404.7055743946294"
      ]
     },
     "execution_count": 428,
     "metadata": {},
     "output_type": "execute_result"
    }
   ],
   "source": [
    "mean_absolute_error(y_test,pred1)"
   ]
  },
  {
   "cell_type": "code",
   "execution_count": 429,
   "id": "e9b76fd6",
   "metadata": {},
   "outputs": [],
   "source": [
    "   my_pipline2=Pipeline(steps=[\n",
    "    ('preprocessing',preprocessing),\n",
    "    ('model',model2)\n",
    "])"
   ]
  },
  {
   "cell_type": "code",
   "execution_count": 430,
   "id": "09deb8e0",
   "metadata": {},
   "outputs": [
    {
     "data": {
      "text/plain": [
       "Pipeline(steps=[('preprocessing',\n",
       "                 ColumnTransformer(transformers=[('num', SimpleImputer(),\n",
       "                                                  Index(['Mileage', 'EngineV', 'Year'], dtype='object')),\n",
       "                                                 ('cat',\n",
       "                                                  Pipeline(steps=[('imputer',\n",
       "                                                                   SimpleImputer(strategy='most_frequent')),\n",
       "                                                                  ('onhot',\n",
       "                                                                   OneHotEncoder(handle_unknown='ignore',\n",
       "                                                                                 sparse=False))]),\n",
       "                                                  Index(['Brand', 'Body', 'Engine Type', 'Registration', 'Model'], dtype='object'))])),\n",
       "                ('model', DecisionTreeRegressor())])"
      ]
     },
     "execution_count": 430,
     "metadata": {},
     "output_type": "execute_result"
    }
   ],
   "source": [
    "my_pipline2.fit(x_train,y_train)"
   ]
  },
  {
   "cell_type": "code",
   "execution_count": 431,
   "id": "333a654b",
   "metadata": {},
   "outputs": [],
   "source": [
    "pred2=my_pipline2.predict(x_test)"
   ]
  },
  {
   "cell_type": "code",
   "execution_count": 432,
   "id": "a97557c3",
   "metadata": {},
   "outputs": [
    {
     "data": {
      "text/plain": [
       "3154.2465211307026"
      ]
     },
     "execution_count": 432,
     "metadata": {},
     "output_type": "execute_result"
    }
   ],
   "source": [
    "mean_absolute_error(y_test,pred2)"
   ]
  },
  {
   "cell_type": "code",
   "execution_count": 433,
   "id": "bb76328f",
   "metadata": {},
   "outputs": [],
   "source": [
    "    my_pipline3=Pipeline(steps=[\n",
    "    ('preprocessing',preprocessing),\n",
    "    ('model',model3)\n",
    "])"
   ]
  },
  {
   "cell_type": "code",
   "execution_count": 434,
   "id": "1abc5f0c",
   "metadata": {},
   "outputs": [
    {
     "data": {
      "text/plain": [
       "Pipeline(steps=[('preprocessing',\n",
       "                 ColumnTransformer(transformers=[('num', SimpleImputer(),\n",
       "                                                  Index(['Mileage', 'EngineV', 'Year'], dtype='object')),\n",
       "                                                 ('cat',\n",
       "                                                  Pipeline(steps=[('imputer',\n",
       "                                                                   SimpleImputer(strategy='most_frequent')),\n",
       "                                                                  ('onhot',\n",
       "                                                                   OneHotEncoder(handle_unknown='ignore',\n",
       "                                                                                 sparse=False))]),\n",
       "                                                  Index(['Brand', 'Body', 'Engine Type', 'Registration', 'Model'], dtype='object'))])),\n",
       "                ('model', GradientBoostingRegressor())])"
      ]
     },
     "execution_count": 434,
     "metadata": {},
     "output_type": "execute_result"
    }
   ],
   "source": [
    "my_pipline3.fit(x_train,y_train)"
   ]
  },
  {
   "cell_type": "code",
   "execution_count": 435,
   "id": "4341e2aa",
   "metadata": {},
   "outputs": [],
   "source": [
    "pred3=my_pipline3.predict(x_test)"
   ]
  },
  {
   "cell_type": "code",
   "execution_count": 436,
   "id": "b3ea9141",
   "metadata": {},
   "outputs": [
    {
     "data": {
      "text/plain": [
       "3252.1147105189225"
      ]
     },
     "execution_count": 436,
     "metadata": {},
     "output_type": "execute_result"
    }
   ],
   "source": [
    "mean_absolute_error(y_test,pred3)"
   ]
  },
  {
   "cell_type": "code",
   "execution_count": null,
   "id": "5d5c3c3c",
   "metadata": {},
   "outputs": [],
   "source": []
  },
  {
   "cell_type": "code",
   "execution_count": null,
   "id": "9584c8b0",
   "metadata": {},
   "outputs": [],
   "source": []
  }
 ],
 "metadata": {
  "kernelspec": {
   "display_name": "Python 3 (ipykernel)",
   "language": "python",
   "name": "python3"
  },
  "language_info": {
   "codemirror_mode": {
    "name": "ipython",
    "version": 3
   },
   "file_extension": ".py",
   "mimetype": "text/x-python",
   "name": "python",
   "nbconvert_exporter": "python",
   "pygments_lexer": "ipython3",
   "version": "3.9.12"
  }
 },
 "nbformat": 4,
 "nbformat_minor": 5
}
